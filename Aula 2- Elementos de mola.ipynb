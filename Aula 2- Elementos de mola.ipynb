{
 "cells": [
  {
   "cell_type": "markdown",
   "metadata": {},
   "source": [
    "# Pré-Introdução à teoria das vibrações(PEC00025)\n",
    "\n",
    "## Aula 2 - Elementos de mola\n",
    "\n",
    "### *Daniel Barbosa Mapurunga Matos (Aluno PPGEC/UFRGS)*\n"
   ]
  },
  {
   "cell_type": "code",
   "execution_count": 3,
   "metadata": {},
   "outputs": [],
   "source": [
    "import numpy as np\n",
    "import matplotlib.pyplot as plt"
   ]
  },
  {
   "cell_type": "markdown",
   "metadata": {},
   "source": [
    "## 1. Equação da mola\n",
    "A mola é responsável por representar as forças restitutivas do sistema, sendo estas causadas por **deformações** em seu comprimento\n",
    "<img src=\"Figuras/mollum.PNG\" width=\"300\">\n",
    "Também chamada de força\n",
    "restitutiva , a força\n",
    "elástica atua contra a direção do movimento e tem\n",
    "seu módulo calculado por:\n",
    "\\begin{align}\n",
    "F_{el} = Kx\n",
    "\\end{align}\n",
    "\n",
    "Onde K é a **rigidez** da mola ( constante elástica) e x a deformação. É válido lembrar que a energia potencial elástica para uma mola linear pode ser calculada por:\n",
    "\\begin{align}\n",
    "U =\\frac{ Kx^2}{2}\n",
    "\\end{align}"
   ]
  },
  {
   "cell_type": "markdown",
   "metadata": {},
   "source": [
    "## 2. Associação de molas em série\n",
    "Neste tópico, criaremos uma função para calcular a **rigidez equivalente** para molas em série. Relembrando a teoria, molas em série são aquelas que estão sujeitas a mesma força, podendo apresentar deformações iguais ou diferentes. A figura abaixo ilustra esta associação.\n",
    "<img src=\"Figuras/serie.png\" width=\"300\">"
   ]
  },
  {
   "cell_type": "markdown",
   "metadata": {},
   "source": [
    "Chamando de $K_1$ e $K_2$ a rigidez de cada mola, é possível deduzir a equação da mola equivalente.\n",
    "\n",
    "\n",
    "\\begin{align}\n",
    "F_1 &= K_1x_1\\\\ \\\\\n",
    "F_2 &= K_2x_2\\\\ \\\\\n",
    "F &= K_{eq} x_{eq}\\\\ \\\\\n",
    "F &= F_1 = F_2\\\\\n",
    "\\end{align}\n",
    "Igualando as forças a força total que atua no sistema, é possível escreve:\n",
    "\n",
    "\n",
    "\\begin{align}\n",
    "F &= F_1 = F_2\\\\ \\\\\n",
    "x_{eq} &= x_1+x_2\\\\ \\\\\n",
    "x_{eq} &= \\frac{F_1}{K_1} + \\frac{F_2}{K_2}\\\\ \\\\\n",
    "\\end{align}\n",
    "Agora, substituindo as forças por $F$, pode-se escrever que:\n",
    "\n",
    "\n",
    "\\begin{align}\n",
    "\\frac{F}{K_{eq}} = \\frac{F}{K_1} + \\frac{F}{K_2}\\\\\n",
    "\\end{align}\n",
    "Sendo assim, chega-se a seguinte expressão genérica:\n",
    "\n",
    "\n",
    "\\begin{align}\n",
    "\\frac{1}{K_{eq}} = \\frac{1}{K_1} + \\frac{1}{K_2}... + \\frac{1}{K_n}\n",
    "\\end{align}\n"
   ]
  },
  {
   "cell_type": "markdown",
   "metadata": {},
   "source": [
    "Agora, monta-se o script:"
   ]
  },
  {
   "cell_type": "code",
   "execution_count": 17,
   "metadata": {},
   "outputs": [
    {
     "name": "stdout",
     "output_type": "stream",
     "text": [
      "1.3714285714285714\n"
     ]
    }
   ],
   "source": [
    "def serie(x):                       #x será uma lista com a rigidez de cada mola\n",
    "    keq_inv = 0\n",
    "    for i in range(len(x)):        # loop para fazer a soma dos inversos\n",
    "        keq_inv += 1/x[i]\n",
    "    keq = 1/keq_inv                # invertendo para resultar na rigidez equivalente.\n",
    "    \n",
    "    return keq\n",
    "\n",
    "x = [2,6,16]\n",
    "keq = serie(x)\n",
    "\n",
    "print(keq)"
   ]
  },
  {
   "cell_type": "markdown",
   "metadata": {},
   "source": [
    "## 3. Associação de molas em paralelo\n",
    "Para molas em paralelo, será feito o mesmo procedimento.\n",
    "\n",
    "<img src=\"Figuras/paralelo.jpg\" width=\"300\">\n",
    "\n",
    "De acordo com o exposto, é possível visualisar agora que $ F = F_1 + F_2$ e $x_{eq} = x_1+x_2$, sendo fácil deduzir que:\n",
    "\n",
    "\n",
    "\\begin{align}\n",
    "K_{eq}x_{eq} &= K_{1}x_{1} + K_{2}x_{2}\\\\\n",
    "\\end{align}\n",
    "cancelando as deformações, é possível escrever:\n",
    "\n",
    "\n",
    "\\begin{align}\n",
    "K_{eq} &= K_{1}+ K_{2}\\\\\n",
    "\\end{align}\n"
   ]
  },
  {
   "cell_type": "code",
   "execution_count": 19,
   "metadata": {},
   "outputs": [
    {
     "name": "stdout",
     "output_type": "stream",
     "text": [
      "24\n"
     ]
    }
   ],
   "source": [
    "def paralelo(x):                       #x será uma lista com a rigidez de cada mola\n",
    "    keq = np.sum(x)             # invertendo para resultar na rigidez equivalente.\n",
    "    \n",
    "    return keq\n",
    "\n",
    "x = [2,6,16]\n",
    "keq = paralelo(x)\n",
    "\n",
    "print(keq)"
   ]
  },
  {
   "cell_type": "markdown",
   "metadata": {},
   "source": [
    "Existem outros tipos de associação de molas, porém os mais importantes estão expostos neste notebook. A associação de amortecedores é exatamente igual à de molas, sendo possível utilizar as mesmas expressões."
   ]
  },
  {
   "cell_type": "markdown",
   "metadata": {},
   "source": [
    "## 4. Exercício\n",
    "considerando $ K1 = 5 \\frac{N}{m}$ e $K2= 10 \\frac{N}{m}$, calcular a rigidez equivalente.\n",
    "<img src=\"Figuras/exercicio.jpg\" width=\"300\">\n"
   ]
  },
  {
   "cell_type": "markdown",
   "metadata": {},
   "source": [
    "Nota-se que a associação é mista, sendo necessário resolver por etapas.\n",
    "\n",
    "Primeiramente, faz-se a associação dos sistemas que estão em paralelo ( cada um em um \"andar\")"
   ]
  },
  {
   "cell_type": "code",
   "execution_count": 20,
   "metadata": {},
   "outputs": [],
   "source": [
    "keq1 = paralelo([5,5,5])\n",
    "keq2 = paralelo([10,10])"
   ]
  },
  {
   "cell_type": "markdown",
   "metadata": {},
   "source": [
    "E agora associa-se em série as duas resultantes já encontradas:"
   ]
  },
  {
   "cell_type": "code",
   "execution_count": 21,
   "metadata": {},
   "outputs": [
    {
     "name": "stdout",
     "output_type": "stream",
     "text": [
      "a rigidez equivalente vale 8.571428571428571\n"
     ]
    }
   ],
   "source": [
    "keq = serie([keq1,keq2])\n",
    "print(\"a rigidez equivalente vale {}\".format(keq))"
   ]
  },
  {
   "cell_type": "code",
   "execution_count": null,
   "metadata": {},
   "outputs": [],
   "source": []
  }
 ],
 "metadata": {
  "kernelspec": {
   "display_name": "Python 3",
   "language": "python",
   "name": "python3"
  },
  "language_info": {
   "codemirror_mode": {
    "name": "ipython",
    "version": 3
   },
   "file_extension": ".py",
   "mimetype": "text/x-python",
   "name": "python",
   "nbconvert_exporter": "python",
   "pygments_lexer": "ipython3",
   "version": "3.7.1"
  }
 },
 "nbformat": 4,
 "nbformat_minor": 2
}
