{
 "cells": [
  {
   "cell_type": "markdown",
   "metadata": {},
   "source": [
    "Universidade Federal do Rio Grande do Sul (UFRGS)   \n",
    "Programa de Pós-Graduação em Engenharia Civil (PPGEC)   \n",
    "\n",
    "# Pré-Introdução à teoria das vibrações(PEC00025)\n",
    "\n",
    "## Aula 5 - Amortecimento viscoso\n",
    "\n",
    "### *Daniel Barbosa Mapurunga Matos (Aluno PPGEC/UFRGS)*"
   ]
  },
  {
   "cell_type": "markdown",
   "metadata": {},
   "source": [
    "## 1.  Equação do amortecedor\n",
    "\n",
    "A força devida ao amortecimento é proporcional a velocidade do sistema:\n",
    "\\begin{align}\n",
    "F_c &= c\\dot{x}\n",
    "\\end{align}\n",
    "\n",
    "<img src=\"Figuras/sistema2.png\" width=\"400\">\n",
    "\n",
    "Onde $c$ é chamado de constante de amortecimento."
   ]
  },
  {
   "attachments": {},
   "cell_type": "markdown",
   "metadata": {},
   "source": [
    "## 2. Constante de amortecimento e Fator de amortecimento\n",
    "\n",
    "A constante de amortecimento será calculada em função da frequência natural do sistema, podendo ser expressa por:\n",
    "\\begin{align}\n",
    "\\frac{c}{m}= 2\\eta = 2\\zeta\\omega\n",
    "\\end{align}\n",
    "Em que $m$ é a massa e $\\zeta$ é o **Fator de amortecimento**, que, na engenharia civil, varia entre 0.001 e 0.05. A tabela abaixo ilustra o fator de amortecimento de determinadas estruturas.([Fonte](https://github.com/mmaiarocha/PEC00025/blob/master/resources/Class_04_FreeTimeDomain.ipynb))\n",
    "<img src=\"Figuras/tabela.png\" width=\"400\">\n",
    "\n"
   ]
  },
  {
   "cell_type": "markdown",
   "metadata": {},
   "source": [
    "## 3. Decremento logarítmico\n",
    "\n",
    "A partir de um sinal, é possível definir o fator de amortecimento a partir da seguite equação:\n",
    "\n",
    "\\begin{align}\n",
    "\\zeta = \\frac{\\ln{( \\frac{u_i}{u_{i+n}}})}{2\\pi n}\n",
    "\\end{align}\n",
    "\n",
    "onde $u_i$ e $u_{i+n}$ são duas amplitudes espaçadas por $n$ ciclos, como mostra a figura abaixo:\n",
    "<img src=\"Figuras/amortecimento.PNG\" width=\"500\">\n"
   ]
  },
  {
   "cell_type": "markdown",
   "metadata": {},
   "source": [
    "## 4. Frequência natural amortecida\n",
    "\n",
    "O amortecedor influencia a frequência natural da estrutura a partir da seguinte expressão:\n",
    "\\begin{align}\n",
    "\\omega_d^2 = w^2 - \\eta^2\n",
    "\\end{align}\n",
    "\n",
    "Expandindo-se esta equação, chega-se a seguinte relação:\n",
    "\\begin{align}\n",
    "\\omega_d = w\\sqrt{1 - \\zeta^2}\n",
    "\\end{align}\n",
    "\n",
    "Como os valores de $\\zeta$ são muito pequenos, é possível afirmar que:\n",
    "\\begin{align}\n",
    "\\omega_d \\approx w\n",
    "\\end{align}"
   ]
  },
  {
   "cell_type": "code",
   "execution_count": null,
   "metadata": {},
   "outputs": [],
   "source": []
  }
 ],
 "metadata": {
  "kernelspec": {
   "display_name": "Python 3",
   "language": "python",
   "name": "python3"
  },
  "language_info": {
   "codemirror_mode": {
    "name": "ipython",
    "version": 3
   },
   "file_extension": ".py",
   "mimetype": "text/x-python",
   "name": "python",
   "nbconvert_exporter": "python",
   "pygments_lexer": "ipython3",
   "version": "3.7.1"
  }
 },
 "nbformat": 4,
 "nbformat_minor": 2
}
