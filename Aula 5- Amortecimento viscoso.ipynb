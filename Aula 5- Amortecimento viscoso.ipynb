{
 "cells": [
  {
   "cell_type": "markdown",
   "metadata": {
    "slideshow": {
     "slide_type": "slide"
    }
   },
   "source": [
    "Universidade Federal do Rio Grande do Sul (UFRGS)   \n",
    "Programa de Pós-Graduação em Engenharia Civil (PPGEC)   \n",
    "\n",
    "# Pré-Introdução à teoria das vibrações\n",
    "\n",
    "## Aula 5 - Amortecimento viscoso\n",
    "\n",
    "### *Daniel Barbosa Mapurunga Matos (Aluno PPGEC/UFRGS)*"
   ]
  },
  {
   "cell_type": "code",
   "execution_count": 3,
   "metadata": {
    "slideshow": {
     "slide_type": "fragment"
    }
   },
   "outputs": [],
   "source": [
    "import numpy as np\n",
    "import matplotlib.pyplot as plt"
   ]
  },
  {
   "cell_type": "markdown",
   "metadata": {
    "slideshow": {
     "slide_type": "slide"
    }
   },
   "source": [
    "## 1.  Equação do amortecedor\n",
    "\n",
    "O amortecedor é responsável por dissipar energia do sistema e é normalente representado pelo **amortecedor viscoso de Newton** ou pelo **Amortecedor por atrito de Coulomb**. Nesta aula, serão tratados os amortecedores viscosos de Newton, onde a força devido a eles é proporcional a velocidade do sistema.\n",
    "\n",
    "\\begin{align}\n",
    "F_c &= c\\dot{u}\n",
    "\\end{align}\n",
    "\n",
    "<img src=\"Figuras/sistema.PNG\" width=\"400\">\n",
    "\n",
    "Onde **C** é chamado de constante de amortecimento."
   ]
  },
  {
   "cell_type": "markdown",
   "metadata": {
    "slideshow": {
     "slide_type": "slide"
    }
   },
   "source": [
    "## 2. Constante de amortecimento e Fator de amortecimento\n",
    "\n",
    "A constante de amortecimento é diretamente proporcional a frequência natural e a massa do sistema, podendo ser expressa por:\n",
    "\n",
    "\\begin{align}\n",
    "{c}= 2\\eta m= 2\\zeta\\omega_n m\n",
    "\\end{align}\n",
    "\n",
    "Em que $m$ é a massa e $\\zeta$ é o **Fator de amortecimento**, que, na engenharia civil, varia entre 0.001 e 0.05. A tabela abaixo ilustra o fator de amortecimento de determinadas estruturas.([Fonte](https://github.com/mmaiarocha/PEC00025/blob/master/resources/Class_04_FreeTimeDomain.ipynb))\n",
    "\n"
   ]
  },
  {
   "cell_type": "markdown",
   "metadata": {
    "slideshow": {
     "slide_type": "subslide"
    }
   },
   "source": [
    "|  Structure type                                           | $\\zeta$  | \n",
    "| :---                                                      |   :---:  | \n",
    "| Reinforced concrete buildings without stiffning walls     |   0.020  | \n",
    "| Reinforced concrete buildings with stiffning walls        |   0.015  | \n",
    "| Reinforced concrete towers and chimneys, tappered         |   0.015  | \n",
    "| Reinforced concrete towers and chimneys, constant section |   0.010  | \n",
    "| Moment resisting steel buildings with welded connections  |   0.010  | \n",
    "| Steel towers and chimneys, constant section               |   0.008  |\n",
    "| Timber structures                                         |   0.030  |\n",
    "\n",
    "\n"
   ]
  },
  {
   "cell_type": "markdown",
   "metadata": {
    "slideshow": {
     "slide_type": "slide"
    }
   },
   "source": [
    "## 3. Decremento logarítmico\n",
    "\n",
    "A partir de um sinal, é possível definir o fator de amortecimento a partir da seguite equação:\n",
    "\n",
    "\\begin{align}\n",
    "\\zeta = \\frac{\\ln{( \\frac{u_i}{u_{i+N}}})}{2\\pi N}\n",
    "\\end{align}\n",
    "\n",
    "onde $u_i$ e $u_{i+N}$ são duas amplitudes espaçadas por $N$ ciclos, como mostra a figura abaixo:\n"
   ]
  },
  {
   "cell_type": "markdown",
   "metadata": {
    "slideshow": {
     "slide_type": "subslide"
    }
   },
   "source": [
    "<img src=\"Figuras/amortecimento.PNG\" width=\"500\">\n",
    "\n"
   ]
  },
  {
   "cell_type": "markdown",
   "metadata": {
    "slideshow": {
     "slide_type": "slide"
    }
   },
   "source": [
    "## 4. Frequência natural amortecida\n",
    "\n",
    "O amortecedor influencia a frequência natural da estrutura a partir da seguinte expressão:\n",
    "\\begin{align}\n",
    "\\omega_d^2 = \\omega_n^2 - \\eta^2\n",
    "\\end{align}\n",
    "\n",
    "Expandindo-se esta equação, chega-se a seguinte relação:\n",
    "\\begin{align}\n",
    "\\omega_d = \\omega_n\\sqrt{1 - \\zeta^2}\n",
    "\\end{align}\n",
    "\n",
    "Como os valores de $\\zeta$ são muito pequenos, é possível afirmar que:\n",
    "\\begin{align}\n",
    "\\omega_d \\approx \\omega_n\n",
    "\\end{align}"
   ]
  },
  {
   "cell_type": "markdown",
   "metadata": {
    "slideshow": {
     "slide_type": "slide"
    }
   },
   "source": [
    "## 5. Resolução da equação de equilíbrio dinâmico\n",
    "\n",
    "\\begin{align}\n",
    "m \\ddot{u} + c \\dot{u} + k u &= 0\n",
    "\\end{align}\n",
    "\n",
    "Para solucionar a equação de equilíbrio dinâmico abaixo, utilizaremos as seguintes transformadas de Laplace:\n",
    "\n",
    "\\begin{align}\n",
    "\\mathscr{L} \\left\\{ \\dot{f}(t)  \\right\\}     &= -f(0) + s \\bar{f}(s) \\\\\n",
    "\\mathscr{L} \\left\\{ \\ddot{f}(t) \\right\\}     &= -s f(0) - \\dot{f}(0) + s^2 \\bar{f}(s) \\\\\n",
    "\\mathscr{L} \\left\\{ e^{-at} \\cos (\\omega t) \\right\\} &=  \\frac{s+a}{(s+a)^2 + \\omega^2} \\\\\n",
    "\\mathscr{L} \\left\\{ e^{-at} \\sin (\\omega t) \\right\\} &=  \\frac{\\omega}{(s+a)^2 + \\omega^2}\n",
    "\\end{align}\n"
   ]
  },
  {
   "cell_type": "markdown",
   "metadata": {
    "slideshow": {
     "slide_type": "subslide"
    }
   },
   "source": [
    "Aplicando a transformda de Laplace na equação de equilíbrio, obtemos:\n",
    "\n",
    "\\begin{align}\n",
    "\\mathscr{L}\\left\\{ m \\ddot{u} + c \\dot{u} + k u \\right\\} = \n",
    "    m \\left[ -s u(0) - \\dot{u}(0) + s^2 \\bar{u}(s) \\right] + \\\\\n",
    "    c \\left[ -u(0) + s \\bar{u}(s) \\right] +\n",
    "    k \\bar{u}(s) = 0 \n",
    "\\end{align}"
   ]
  },
  {
   "cell_type": "markdown",
   "metadata": {
    "slideshow": {
     "slide_type": "subslide"
    }
   },
   "source": [
    "Isolando agora $\\bar{u}(s)$, tem-se a seguinte expressão:\n",
    "\n",
    "\\begin{align}\n",
    "\\bar{u}(s) =  \n",
    "   \\left[\\frac{(s + \\eta)}{(s + \\eta)^2 + \\omega_{\\rm D}^2}\\right] u_0 + \n",
    "   \\left[\\frac{\\omega_{\\rm D}}{(s + \\eta)^2 + \\omega_{\\rm D}^2}\\right] \n",
    "   \\left(\\frac{v_0 + \\eta u_0}{\\omega_{\\rm D}} \\right) \n",
    "\\end{align}\n",
    "\n",
    "Voltando agora ao domínio do tempo,encontra-se a equação de equilíbrio dinâmico para um sistema com amortecimento viscoso( lembrando que $\\eta = 2\\zeta\\omega_n$):\n",
    "\n",
    "\\begin{align}\n",
    "u(t) = e^{- \\zeta \\omega_{\\rm n} t}\n",
    "   \\left[ u_0 \\cos \\omega_{\\rm D}t + \\left( \\frac{v_0 + \\zeta \\omega_{\\rm n} u_0}\n",
    "   {\\omega_{\\rm D}} \\right) \\sin \\omega_{\\rm D}t  \\right] \n",
    "\\end{align}"
   ]
  },
  {
   "cell_type": "markdown",
   "metadata": {
    "slideshow": {
     "slide_type": "subslide"
    }
   },
   "source": [
    "O script abaixo ilustra este estipo de movimento"
   ]
  },
  {
   "cell_type": "code",
   "execution_count": 8,
   "metadata": {
    "slideshow": {
     "slide_type": "fragment"
    }
   },
   "outputs": [],
   "source": [
    "z  = 0.01                        # Fator de amortecimento\n",
    "m  = 200                         # Massa do sistema\n",
    "wn = 2                           # Frequência natural do sistema\n",
    "wd = wn*np.sqrt(1-z**2)          # Frequência natural amortecida\n",
    "u0 = 5\n",
    "v0 = 7\n",
    "t = np.linspace(0,100,500)\n",
    "u  = np.exp(-z*wn*t)*(u0*np.cos(wd*t) + (v0+z*wn*u0)*np.sin(wd*t)/wd) \n"
   ]
  },
  {
   "cell_type": "code",
   "execution_count": 9,
   "metadata": {
    "slideshow": {
     "slide_type": "subslide"
    }
   },
   "outputs": [
    {
     "data": {
      "image/png": "[encoded data removed]",
      "text/plain": [
       "<Figure size 576x288 with 1 Axes>"
      ]
     },
     "metadata": {
      "needs_background": "light"
     },
     "output_type": "display_data"
    }
   ],
   "source": [
    "plt.figure(1,figsize=(8,4))\n",
    "plt.plot(t,u,'b')\n",
    "plt.xlabel('tempo(s)') ; plt.ylabel('deslocamento(m)')\n",
    "plt.grid(True)"
   ]
  }
 ],
 "metadata": {
  "celltoolbar": "Slideshow",
  "kernelspec": {
   "display_name": "Python 3",
   "language": "python",
   "name": "python3"
  },
  "language_info": {
   "codemirror_mode": {
    "name": "ipython",
    "version": 3
   },
   "file_extension": ".py",
   "mimetype": "text/x-python",
   "name": "python",
   "nbconvert_exporter": "python",
   "pygments_lexer": "ipython3",
   "version": "3.7.4"
  }
 },
 "nbformat": 4,
 "nbformat_minor": 2
}
