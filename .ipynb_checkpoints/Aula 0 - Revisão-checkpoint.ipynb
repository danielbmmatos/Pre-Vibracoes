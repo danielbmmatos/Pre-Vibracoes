{
 "cells": [
  {
   "cell_type": "markdown",
   "metadata": {},
   "source": [
    "Universidade Federal do Rio Grande do Sul (UFRGS)   \n",
    "Programa de Pós-Graduação em Engenharia Civil (PPGEC)   \n",
    "\n",
    "# Pré-Introdução à teoria das vibrações\n",
    "\n",
    "## Aula 0 - Revisão : Ondulatória e cinemática angular\n",
    "\n",
    "### *Daniel Barbosa Mapurunga Matos (Aluno PPGEC/UFRGS)*\n"
   ]
  },
  {
   "cell_type": "markdown",
   "metadata": {},
   "source": [
    "## 1. Ondulatória\n",
    "Podemos  definir uma onda como uma perturbação que se propaga num meio que transfere energia de um ponto a outro sem o transporte de matéria\n"
   ]
  },
  {
   "cell_type": "markdown",
   "metadata": {},
   "source": [
    "## 1.1 Componentes das ondas\n",
    "\n",
    "Ao analisar uma onda, é necessário observar os eixos que estão sendo trabalhados. No caso de um gráfico XY, onde os dois eixos estão em unidades de comprimento, é possível observar os seguintes componentes:\n",
    "<img src=\"Figuras/Lambda.jpg\" width=\"500\">\n",
    "\n",
    "* Amplitude(A): é a distancia do eixo de simetria a uma crista ou a um vale.\n",
    "\n",
    "* Crista: é o ponto de amplitude máxima.\n",
    "\n",
    "* Vale : é o pontode amplitude mínima.\n",
    "\n",
    "* Comprimento de onda($ \\lambda$ ) : é  a distância entre dois pontos semelhantes consecutivos, por exemplo, de uma crista a outra crista ou de um vale a outro vale.\n",
    "\n",
    "Observando, agora, um gráfico tY, onde $t$ é o tempo decorrido, é possível identificar o período de oscilação $T$ desta onda, que corresponde ao tempo nescessário para que haja uma repetição\n",
    "\n",
    "<img src=\"Figuras/periodo.jpg\" width=\"450\">\n",
    "\n",
    "A frequência de oscilação da onda pode ser calculada pelo inverso do período\n",
    "\n",
    "\\begin{align}\n",
    "f &= \\frac{1}{T}\n",
    "\\end{align}\n",
    "\n",
    "\n",
    "\n"
   ]
  },
  {
   "cell_type": "markdown",
   "metadata": {},
   "source": [
    "## 1.2 Equação fundamental das ondas\n",
    "\n",
    "A equação fundamental das ondas parte do príncipio de movimento retilíneo uniforme, onde é possível escrever a seguinte relação:\n",
    "\n",
    "\\begin{align}\n",
    "v &= \\frac{\\Delta s}{\\Delta t}\n",
    "\\end{align}\n",
    "\n",
    "Fazendo $ \\Delta s = \\lambda$ e $ \\Delta t = T$, escreve-se:\n",
    "\n",
    "\\begin{align}\n",
    "v &= \\frac{\\lambda}{T}\n",
    "\\end{align}\n",
    "\n",
    "Já que $f = \\frac{1}{T} $, a equação fundamental das ondas pode ser escrita por:\n",
    "\n",
    "\\begin{align}\n",
    "v &= \\lambda f\n",
    "\\end{align}\n",
    "\n",
    "\n"
   ]
  },
  {
   "cell_type": "markdown",
   "metadata": {},
   "source": [
    "## 2. Cinemática angular ( Movimento Circular Uniforme)\n",
    "\n",
    "Um movimento circular uniforme é caracterizado pelo vetor velocidade de módulo constante, porém com mudança de direção e sentido, como exposto abaixo:\n",
    "<img src=\"Figuras/mcu.jpg\" width=\"400\">\n",
    "\n",
    "A transformação de valores angulares para valores lineares, é feita em função da amplitude, visto que o comprimento do arco percorrido pode ser escrito a partir da seguinte relação:\n",
    "\n",
    "\\begin{align}\n",
    "\\Delta s = \\Delta \\phi R\n",
    "\\end{align}\n",
    "\n",
    "\n",
    "\n",
    "Sendo assim, é possível deduzir o valor da velocidade linear em função da velocidade angular dividindo a equação acima pela variação do tempo.\n",
    "\n",
    "\\begin{align}\n",
    "\\frac{\\Delta s}{\\Delta t} &= \\frac{\\Delta \\phi}{\\Delta t} R\\\\\n",
    "v &= \\omega R\n",
    "\\end{align}\n",
    "\n",
    "Agora, analisando uma volta completa nesta tragetória, é possível dizer que $ \\Delta s = 2\\pi R $ e $\\Delta t = T$, onde $T$ é o período. Sendo assim, a velocidade linear pode ser escrita por:\n",
    "\\begin{align}\n",
    "v &= \\frac{\\Delta s}{\\Delta t} = \\frac{2 \\pi R}{T} \\\\\n",
    "\\omega R &= \\frac{2 \\pi R}{T}\\\\\n",
    "\\omega  &= \\frac{2 \\pi }{T} = 2\\pi f\n",
    "\\end{align}\n",
    "\n",
    "\n",
    "\n"
   ]
  },
  {
   "cell_type": "markdown",
   "metadata": {},
   "source": [
    "A velocidade angular $\\omega$ também pode ser chamada de frequência de oscilação ($\\frac{Rad}{s}$)e a  relação $\\omega=2\\pi f$ permite a conversão de unidades de $\\frac{Rad}{s}$ Para $\\frac{1}{s} = Hz$"
   ]
  },
  {
   "cell_type": "code",
   "execution_count": null,
   "metadata": {},
   "outputs": [],
   "source": []
  }
 ],
 "metadata": {
  "kernelspec": {
   "display_name": "Python 3",
   "language": "python",
   "name": "python3"
  },
  "language_info": {
   "codemirror_mode": {
    "name": "ipython",
    "version": 3
   },
   "file_extension": ".py",
   "mimetype": "text/x-python",
   "name": "python",
   "nbconvert_exporter": "python",
   "pygments_lexer": "ipython3",
   "version": "3.7.1"
  }
 },
 "nbformat": 4,
 "nbformat_minor": 2
}
