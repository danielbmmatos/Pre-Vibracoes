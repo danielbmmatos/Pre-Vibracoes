{
 "cells": [
  {
   "cell_type": "markdown",
   "metadata": {},
   "source": [
    "# Exercícios"
   ]
  },
  {
   "cell_type": "code",
   "execution_count": null,
   "metadata": {},
   "outputs": [],
   "source": []
  },
  {
   "cell_type": "markdown",
   "metadata": {},
   "source": [
    "Todos os exemplos serão feitos com base na viga abaixo:\n",
    "<img src=\"Figuras/ex1.png\" width=\"500\">\n",
    "\n",
    "Para estes exercícios, utilizar os seguinte valores:\n",
    "* E = 20 Gpa\n",
    "* m = 2500kg/m^3\n",
    "* L = 9 m\n",
    "* b = 85 cm\n",
    "* h = 25 cm\n",
    "* $\\zeta$ = 0.01"
   ]
  },
  {
   "cell_type": "markdown",
   "metadata": {},
   "source": [
    "### Exercício 1:\n",
    "\n",
    "Representar a viga por um sistema de um grau de liberdade, apresentando os valores de massa equivalente, rigidez equivalente e frequência natural"
   ]
  },
  {
   "cell_type": "code",
   "execution_count": null,
   "metadata": {},
   "outputs": [],
   "source": []
  },
  {
   "cell_type": "markdown",
   "metadata": {},
   "source": [
    "### Exercício 2:\n",
    "\n",
    "Calcular a frequência natural amortecida e a resposta máxima deste sistema a uma velocidade inicial de 2 m/s"
   ]
  },
  {
   "cell_type": "code",
   "execution_count": null,
   "metadata": {},
   "outputs": [],
   "source": []
  },
  {
   "cell_type": "markdown",
   "metadata": {},
   "source": [
    "### Exercício 3:\n",
    "\n",
    "Esboçar graficamente o deslocamento em função do tempo para o sistema quando uma massa de 500 kg é solta de uma altura $h_0 = 50 cm$ e colide com a  estrutura. ( Considere que a massa permanece acoplada a estrutura após o impacto)\n",
    "<img src=\"Figuras/ex2.png\" width=\"500\">\n"
   ]
  },
  {
   "cell_type": "code",
   "execution_count": null,
   "metadata": {},
   "outputs": [],
   "source": []
  },
  {
   "cell_type": "markdown",
   "metadata": {},
   "source": [
    "### Exercício 4:\n",
    " \n",
    " Calcular o deslocamento máximo da viga quando uma carregamento harmônico no formato $ f(t) = 6000 \\sin(20t)$ é aplicado em seu centro\n"
   ]
  },
  {
   "cell_type": "code",
   "execution_count": null,
   "metadata": {},
   "outputs": [],
   "source": []
  },
  {
   "cell_type": "markdown",
   "metadata": {},
   "source": [
    "### Exercício 5:\n",
    "\n",
    "Estimar o valor r.m.s e o deslocamento de pico do sistema quando este está submetido a um ruído branco em banda como ilustra a figura abaixo:\n",
    "<img src=\"Figuras/ex4.jpg\" width=\"500\">\n"
   ]
  },
  {
   "cell_type": "code",
   "execution_count": null,
   "metadata": {},
   "outputs": [],
   "source": []
  }
 ],
 "metadata": {
  "kernelspec": {
   "display_name": "Python 3",
   "language": "python",
   "name": "python3"
  },
  "language_info": {
   "codemirror_mode": {
    "name": "ipython",
    "version": 3
   },
   "file_extension": ".py",
   "mimetype": "text/x-python",
   "name": "python",
   "nbconvert_exporter": "python",
   "pygments_lexer": "ipython3",
   "version": "3.7.4"
  }
 },
 "nbformat": 4,
 "nbformat_minor": 2
}
