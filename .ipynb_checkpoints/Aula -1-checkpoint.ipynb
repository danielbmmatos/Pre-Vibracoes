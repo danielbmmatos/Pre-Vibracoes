{
 "cells": [
  {
   "cell_type": "markdown",
   "metadata": {
    "slideshow": {
     "slide_type": "slide"
    }
   },
   "source": [
    "Universidade Federal do Rio Grande do Sul (UFRGS)   \n",
    "Programa de Pós-Graduação em Engenharia Civil (PPGEC)   \n",
    "\n",
    "# Pré-Introdução à teoria das vibrações\n",
    "\n",
    "### Aula -1 - Uma breve introdução à linguagem Python\n",
    "\n",
    "*Daniel Barbosa Mapurunga Matos (Aluno PPGEC/UFRGS)*\n",
    "\n"
   ]
  },
  {
   "cell_type": "markdown",
   "metadata": {
    "slideshow": {
     "slide_type": "slide"
    }
   },
   "source": [
    "## 1. Introdução\n",
    "Nesta aula, serão introduzidos alguns conceitos básicos da linguagem Python, assim como algumas classes fundamentais para a disciplina.\n",
    "\n",
    "Python é uma linguagem de sintaxe simples que oferece um universo de utilizades, sendo algumas delas apresentadas a seguir."
   ]
  },
  {
   "cell_type": "markdown",
   "metadata": {
    "slideshow": {
     "slide_type": "slide"
    }
   },
   "source": [
    "## 2. Variáveis\n",
    "As variáveis básicas que podem ser declaradas em Python são ``int``,``float``,``string``,``list``,``tuple`` e ``dictionary``, sendo este último o menos importante para nosso propósito. As variáveis do tipo ``int`` e ``float`` são utilizadas para o armazenamento de números, sendo o primeiro para números inteiros e o segundo para números racionais. Caso seja necessário descobrir qual o tipo de uma variável, pode-se utilizar a função *type* junto ao comando *print* para apresentar o resultado."
   ]
  },
  {
   "cell_type": "code",
   "execution_count": 8,
   "metadata": {
    "slideshow": {
     "slide_type": "subslide"
    }
   },
   "outputs": [
    {
     "name": "stdout",
     "output_type": "stream",
     "text": [
      "<class 'int'> <class 'float'>\n"
     ]
    }
   ],
   "source": [
    "a = 1 \n",
    "b = 1.\n",
    "print(type(a),type(b))"
   ]
  },
  {
   "cell_type": "markdown",
   "metadata": {
    "slideshow": {
     "slide_type": "subslide"
    }
   },
   "source": [
    "Percebe-se que, como o conjunto dos inteiros está contido no conjunto dos números racionais, o valor de **b**, apesar de estar declarado como float, representa um valor inteiro."
   ]
  },
  {
   "cell_type": "markdown",
   "metadata": {
    "slideshow": {
     "slide_type": "subslide"
    }
   },
   "source": [
    "Um ``string`` corresponde a uma sequência de caracteres alfanuméricos, como apresentado a seguir:"
   ]
  },
  {
   "cell_type": "code",
   "execution_count": 13,
   "metadata": {
    "slideshow": {
     "slide_type": "subslide"
    }
   },
   "outputs": [
    {
     "name": "stdout",
     "output_type": "stream",
     "text": [
      "<class 'str'>\n"
     ]
    }
   ],
   "source": [
    "c = \"Python\"\n",
    "print(type(c))"
   ]
  },
  {
   "cell_type": "markdown",
   "metadata": {
    "slideshow": {
     "slide_type": "subslide"
    }
   },
   "source": [
    "``lists`` e ``tuples`` podem armazenar vários valores, sejam eles ``int``, ``float`` ou ``string`` em uma única variável, tendo como principal diferença que as ``lists`` são operáveis  e as ``tuples`` não."
   ]
  },
  {
   "cell_type": "code",
   "execution_count": 26,
   "metadata": {
    "slideshow": {
     "slide_type": "subslide"
    }
   },
   "outputs": [
    {
     "name": "stdout",
     "output_type": "stream",
     "text": [
      "<class 'list'> <class 'tuple'>\n"
     ]
    }
   ],
   "source": [
    "x = [1,2,3,4.,5,6]  # A lista é declarada com []\n",
    "y = (1,2,3,4.,5,6)  # A tuple é declarada com ()\n",
    "print(type(x),type(y))"
   ]
  },
  {
   "cell_type": "markdown",
   "metadata": {
    "slideshow": {
     "slide_type": "subslide"
    }
   },
   "source": [
    "Para acesssar um determinado valor de uma ``list`` ou de um ``tuple``, utiliza-se colchetes com o índice desejado após a variável, **ressaltando que, em Python, a contagem dos índices começa em 0**."
   ]
  },
  {
   "cell_type": "code",
   "execution_count": 31,
   "metadata": {
    "slideshow": {
     "slide_type": "subslide"
    }
   },
   "outputs": [
    {
     "name": "stdout",
     "output_type": "stream",
     "text": [
      "1 \n",
      " 6\n"
     ]
    }
   ],
   "source": [
    "print(x[0], '\\n' ,y[5])"
   ]
  },
  {
   "cell_type": "markdown",
   "metadata": {
    "slideshow": {
     "slide_type": "slide"
    }
   },
   "source": [
    "## 2. Blocos"
   ]
  },
  {
   "cell_type": "markdown",
   "metadata": {
    "slideshow": {
     "slide_type": "slide"
    }
   },
   "source": [
    "### 2.1 Condicional\n",
    "\n",
    "O bloco condicional permite segmentar o fluxo do algorítmo com base nos parâmetros escolhidos. Segue o exemplo para ilustrar a sintaxe."
   ]
  },
  {
   "cell_type": "code",
   "execution_count": 5,
   "metadata": {
    "slideshow": {
     "slide_type": "subslide"
    }
   },
   "outputs": [
    {
     "name": "stdout",
     "output_type": "stream",
     "text": [
      "oi\n"
     ]
    }
   ],
   "source": [
    "x = 4\n",
    "\n",
    "if x == 4:               # o if implica a Condição ( OBS: \"=\" significa \"recebe\" e \"==\" significa \"igual\")\n",
    "    y = \"oi\"\n",
    "elif x>4:               \n",
    "    y = \"sumido\"        # Caso a primeira condição não for satisfeita\n",
    "else:\n",
    "    y=\"?\"               # Caso nenhuma das condições sejam satisfeitas ( equivalente a elif x<4)\n",
    "    \n",
    "print(y)"
   ]
  },
  {
   "cell_type": "markdown",
   "metadata": {
    "slideshow": {
     "slide_type": "slide"
    }
   },
   "source": [
    "### 2.2 Loop\n",
    "\n",
    "os loops repetem um bloco definido até que uma certa condicão seja satisfeita, por exemplo:"
   ]
  },
  {
   "cell_type": "code",
   "execution_count": 6,
   "metadata": {
    "slideshow": {
     "slide_type": "subslide"
    }
   },
   "outputs": [
    {
     "name": "stdout",
     "output_type": "stream",
     "text": [
      "1\n",
      "2\n",
      "3\n",
      "5\n",
      "7\n"
     ]
    }
   ],
   "source": [
    "for x in [1,2,3,5,7]:\n",
    "    print(x)\n"
   ]
  },
  {
   "cell_type": "markdown",
   "metadata": {
    "slideshow": {
     "slide_type": "subslide"
    }
   },
   "source": [
    "Perceba que o comando print foi repetido para todos os elementos que estavam na lista. O comando \"in range\" permite criar uma lista, partindo do zero, da quantidade de valores desejados, por exemplo:\n"
   ]
  },
  {
   "cell_type": "code",
   "execution_count": 7,
   "metadata": {
    "slideshow": {
     "slide_type": "subslide"
    }
   },
   "outputs": [
    {
     "name": "stdout",
     "output_type": "stream",
     "text": [
      "0\n",
      "1\n",
      "2\n",
      "3\n"
     ]
    }
   ],
   "source": [
    "for x in range(4):\n",
    "    print(x)"
   ]
  },
  {
   "cell_type": "markdown",
   "metadata": {
    "slideshow": {
     "slide_type": "subslide"
    }
   },
   "source": [
    "Loops muito grandes ocasionam em grande tempo de processamento, sendo preferível a utilização de **Cálculos matriciais**.\n"
   ]
  },
  {
   "cell_type": "markdown",
   "metadata": {
    "slideshow": {
     "slide_type": "subslide"
    }
   },
   "source": [
    "### 2.3 Funções\n",
    "\n",
    "A função é um bloco que requer um ou mais argumentos de entrada. Ela permite que o usuário execute uma certa subrotina em qualquer parte do código que seja posterior a sua definição. Por exemplo, vamos criar uma função $Y = aX^2 + bX + c$."
   ]
  },
  {
   "cell_type": "code",
   "execution_count": 10,
   "metadata": {
    "slideshow": {
     "slide_type": "fragment"
    }
   },
   "outputs": [
    {
     "name": "stdout",
     "output_type": "stream",
     "text": [
      "49\n"
     ]
    }
   ],
   "source": [
    "def quad(x,a,b,c):\n",
    "    Y = a*x**2 + b*x +c\n",
    "    \n",
    "    return Y\n",
    "x = 4\n",
    "a = 2\n",
    "b = 3\n",
    "c = 5\n",
    "Y = quad(x,a,b,c)\n",
    "print(Y)"
   ]
  },
  {
   "cell_type": "markdown",
   "metadata": {
    "slideshow": {
     "slide_type": "fragment"
    }
   },
   "source": [
    "Também é possível realizar a função a partir do comando ``lambda``, que resulta no mesmo."
   ]
  },
  {
   "cell_type": "code",
   "execution_count": 11,
   "metadata": {
    "slideshow": {
     "slide_type": "fragment"
    }
   },
   "outputs": [
    {
     "name": "stdout",
     "output_type": "stream",
     "text": [
      "49\n"
     ]
    }
   ],
   "source": [
    "quad2 = lambda x,a,b,c : a*x**2 + b*x +c\n",
    "\n",
    "Y2 = quad2(x,a,b,c)\n",
    "\n",
    "print(Y2)\n",
    "\n"
   ]
  },
  {
   "cell_type": "markdown",
   "metadata": {
    "slideshow": {
     "slide_type": "slide"
    }
   },
   "source": [
    "## 3. Classes indispensáveis \n",
    "\n",
    "A utilização de classes (ou bibliotecas) é o que torna o Python tão versátil, podendo ser utilizado para realização de simples operações matemáticas até resolução de derivadas, integrais e transformadas. "
   ]
  },
  {
   "cell_type": "markdown",
   "metadata": {
    "slideshow": {
     "slide_type": "slide"
    }
   },
   "source": [
    "### 3.1 Numpy\n",
    "\n",
    "A classe ``Numpy`` é fundamental para a realização de operações matemáticas, principalmente destinada a realizar operações matriciais. Nesta aula, serão apresentados comandos básicos das bibliotecas, sendo necessário ler a documentação da classe para complementação do conteúdo."
   ]
  },
  {
   "cell_type": "markdown",
   "metadata": {
    "slideshow": {
     "slide_type": "slide"
    }
   },
   "source": [
    "#### 3.1.1 Criando e operando com Arrays ( Ou matrizes)\n",
    "\n",
    "Antes de poder utilizar a biblioteca, é necessário realizar a importação da mesma, sendo preferível realizar esta operação no início de cada programa."
   ]
  },
  {
   "cell_type": "code",
   "execution_count": 8,
   "metadata": {
    "slideshow": {
     "slide_type": "subslide"
    }
   },
   "outputs": [],
   "source": [
    "import numpy as np"
   ]
  },
  {
   "cell_type": "markdown",
   "metadata": {
    "slideshow": {
     "slide_type": "subslide"
    }
   },
   "source": [
    "o comando \"as\" permite apelidar o nome da biblioteca e deixar a sua utilização mais simples.\n",
    "\n",
    "O comando ``np.array`` permite a criação de arrays unidirecionais e bidirecionais, como apresentado abaixo:"
   ]
  },
  {
   "cell_type": "code",
   "execution_count": 32,
   "metadata": {
    "slideshow": {
     "slide_type": "subslide"
    }
   },
   "outputs": [
    {
     "name": "stdout",
     "output_type": "stream",
     "text": [
      "[1 2 3] \n",
      "\n",
      " [[1 2 3]\n",
      " [4 5 6]\n",
      " [6 7 8]]\n"
     ]
    }
   ],
   "source": [
    "X = np.array([1,2,3])\n",
    "\n",
    "Y = np.array([[1,2,3],\n",
    "            [4,5,6],\n",
    "            [6,7,8]])\n",
    "print(X,\"\\n\\n\",Y)"
   ]
  },
  {
   "cell_type": "markdown",
   "metadata": {
    "slideshow": {
     "slide_type": "subslide"
    }
   },
   "source": [
    "A operação de multiplicação de matrizes(arrays bidirecionais) e vetores(arrays unidirecionais) deve ser feita a partir do comando ``np.dot``, porém, caso o programador deseje multiplicar termo a termo, pode usar o operador de multiplicação (*) normalmente. Abaixo segue a diferença dos processos."
   ]
  },
  {
   "cell_type": "code",
   "execution_count": 20,
   "metadata": {
    "slideshow": {
     "slide_type": "subslide"
    }
   },
   "outputs": [
    {
     "name": "stdout",
     "output_type": "stream",
     "text": [
      "[27 33 39] \n",
      "\n",
      " [[ 1  4  9]\n",
      " [ 4 10 18]\n",
      " [ 6 14 24]]\n"
     ]
    }
   ],
   "source": [
    "Z = np.dot(X,Y)  \n",
    "K = X*Y\n",
    "print(Z,'\\n\\n',K)"
   ]
  },
  {
   "cell_type": "markdown",
   "metadata": {
    "slideshow": {
     "slide_type": "subslide"
    }
   },
   "source": [
    "A função ``np.dot`` segue as regras da multiplicação matricial, sendo necessário que o número de colunas do primeiro array seja igual ao número de linhas do segundo"
   ]
  },
  {
   "cell_type": "markdown",
   "metadata": {
    "slideshow": {
     "slide_type": "slide"
    }
   },
   "source": [
    "### 3.1.2 ``np.ones``, ``np.zeros`` e ``np.linspace``\n",
    "\n",
    "Cada uma das funções permite a criação de um array com valores definidos. A ``np.ones`` cria um array unitário, enquanto a ``np.zeros`` cria um array nulo."
   ]
  },
  {
   "cell_type": "code",
   "execution_count": 30,
   "metadata": {
    "slideshow": {
     "slide_type": "subslide"
    }
   },
   "outputs": [
    {
     "name": "stdout",
     "output_type": "stream",
     "text": [
      "[0. 0. 0. 0. 0. 0. 0.] \n",
      "\n",
      " [[1. 1. 1. 1.]\n",
      " [1. 1. 1. 1.]\n",
      " [1. 1. 1. 1.]]\n"
     ]
    }
   ],
   "source": [
    "X = np.zeros(7)\n",
    "Y = np.ones((3,4))        ##número de linhas e colunas\n",
    "print(X,\"\\n\\n\",Y)"
   ]
  },
  {
   "cell_type": "markdown",
   "metadata": {
    "slideshow": {
     "slide_type": "subslide"
    }
   },
   "source": [
    "O comando ``np.linspace`` permite a criação de um array unidirecional com os seguintes argumentos: número inicial,número final e quantidade de valores."
   ]
  },
  {
   "cell_type": "code",
   "execution_count": 28,
   "metadata": {
    "slideshow": {
     "slide_type": "subslide"
    }
   },
   "outputs": [
    {
     "name": "stdout",
     "output_type": "stream",
     "text": [
      "[  0.   1.   2.   3.   4.   5.   6.   7.   8.   9.  10.  11.  12.  13.\n",
      "  14.  15.  16.  17.  18.  19.  20.  21.  22.  23.  24.  25.  26.  27.\n",
      "  28.  29.  30.  31.  32.  33.  34.  35.  36.  37.  38.  39.  40.  41.\n",
      "  42.  43.  44.  45.  46.  47.  48.  49.  50.  51.  52.  53.  54.  55.\n",
      "  56.  57.  58.  59.  60.  61.  62.  63.  64.  65.  66.  67.  68.  69.\n",
      "  70.  71.  72.  73.  74.  75.  76.  77.  78.  79.  80.  81.  82.  83.\n",
      "  84.  85.  86.  87.  88.  89.  90.  91.  92.  93.  94.  95.  96.  97.\n",
      "  98.  99. 100.]\n"
     ]
    }
   ],
   "source": [
    "Z = np.linspace(0,100,101)\n",
    "print(Z)"
   ]
  },
  {
   "cell_type": "markdown",
   "metadata": {
    "slideshow": {
     "slide_type": "slide"
    }
   },
   "source": [
    "### 3.1.3 Outros comandos interessantes\n",
    "É possível transpor e inverter matrizes utilizando a Numpy, como exposto abaixo:"
   ]
  },
  {
   "cell_type": "code",
   "execution_count": 37,
   "metadata": {
    "slideshow": {
     "slide_type": "subslide"
    }
   },
   "outputs": [
    {
     "name": "stdout",
     "output_type": "stream",
     "text": [
      "O transposto de X é [1 2 3] \n",
      "\n",
      " e o inverso de Y é \n",
      "[[ 5.14697100e+14 -1.28674275e+15  7.72045650e+14]\n",
      " [-1.02939420e+15  2.57348550e+15 -1.54409130e+15]\n",
      " [ 5.14697100e+14 -1.28674275e+15  7.72045650e+14]]\n"
     ]
    }
   ],
   "source": [
    "print(\"O transposto de X é {} \\n\\n e o inverso de Y é \\n{}\".format(X.T,np.linalg.inv(Y)))\n"
   ]
  },
  {
   "cell_type": "markdown",
   "metadata": {
    "slideshow": {
     "slide_type": "slide"
    }
   },
   "source": [
    "## 3.2 Matplotlib.pyplot\n",
    "\n",
    "Esta classe será utilizada para a plotagem de gráficos em duas dimensões, sendo apresentado abaixo uma pequena \"receita de bolo\" de como realizar o procedimento. Para exemplificar, será ilustrado o movimento de um pêndulo simples."
   ]
  },
  {
   "cell_type": "code",
   "execution_count": 49,
   "metadata": {
    "slideshow": {
     "slide_type": "subslide"
    }
   },
   "outputs": [
    {
     "data": {
      "image/png": "[encoded data removed]",
      "text/plain": [
       "<Figure size 576x288 with 1 Axes>"
      ]
     },
     "metadata": {
      "needs_background": "light"
     },
     "output_type": "display_data"
    }
   ],
   "source": [
    "import matplotlib.pyplot as plt\n",
    "\n",
    "#-- Calculando os eixos X e Y.--#\n",
    "\n",
    "t = np.linspace(0,50,102)                    #Criando o eixo do tempo[s]\n",
    "A = 2                                        # Amplitude do movimento[m]\n",
    "w = 0.5                                      # Frequência de oscilação[rad/s]\n",
    "phi = -np.pi/2                               # Ângulo de fase[rad]\n",
    "\n",
    "X = A*np.cos(phi+w*t)                        # Equação da elongação (MHS)\n",
    "\n",
    "\n",
    "\n",
    "#-- Preparando a plotagem --#\n",
    "\n",
    "plt.figure(1,figsize=(8,4))                 # Criando a figura e definindo seu número e tamanho em X e Y\n",
    "plt.plot(t,X,'b')                           # Plotando os valores de X e Y e definindo a cor do gráfico\n",
    "plt.title('Movimento harmônico simples')    # título do gráfico\n",
    "plt.xlabel('tempo(s)')                      # Nome do eixo X\n",
    "plt.ylabel('Elongação(m)')                  # Nome do eixo y\n",
    "plt.xlim(0,50) ; plt.ylim(-2,2)             # Definindo os limites de cada eixo\n",
    "plt.grid(True)                              #Plotando a grade\n"
   ]
  }
 ],
 "metadata": {
  "celltoolbar": "Slideshow",
  "kernelspec": {
   "display_name": "Python 3",
   "language": "python",
   "name": "python3"
  },
  "language_info": {
   "codemirror_mode": {
    "name": "ipython",
    "version": 3
   },
   "file_extension": ".py",
   "mimetype": "text/x-python",
   "name": "python",
   "nbconvert_exporter": "python",
   "pygments_lexer": "ipython3",
   "version": "3.7.4"
  }
 },
 "nbformat": 4,
 "nbformat_minor": 2
}
