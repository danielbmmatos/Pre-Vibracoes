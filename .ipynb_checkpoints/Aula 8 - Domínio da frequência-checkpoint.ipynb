{
 "cells": [
  {
   "cell_type": "code",
   "execution_count": 1,
   "metadata": {
    "slideshow": {
     "slide_type": "skip"
    }
   },
   "outputs": [],
   "source": [
    "import numpy as np\n",
    "import matplotlib.pyplot as plt"
   ]
  },
  {
   "cell_type": "markdown",
   "metadata": {
    "slideshow": {
     "slide_type": "slide"
    }
   },
   "source": [
    "Universidade Federal do Rio Grande do Sul (UFRGS)   \n",
    "Programa de Pós-Graduação em Engenharia Civil (PPGEC)   \n",
    "\n",
    "# Pré-Introdução à teoria das vibrações\n",
    "\n",
    "### Aula 8 - Domínio da frequência\n",
    "\n",
    "*Daniel Barbosa Mapurunga Matos (Aluno PPGEC/UFRGS)*\n"
   ]
  },
  {
   "cell_type": "markdown",
   "metadata": {
    "slideshow": {
     "slide_type": "slide"
    }
   },
   "source": [
    "## 1. Resolução da equação de equilíbrio dinâmico no domínio da frequência\n",
    "\n",
    "Para a resolução da equação de equilíbrio dinãmico no domínio da frequência é necessário utilizar a transformada de Fourier. De forma simplificada, serão utilizadas as seguintes transformações:\n",
    "$$ \\mathscr{F}\\{\\dot{f}(t)\\} = -i \\omega\\bar{f}(\\omega) \\\\\n",
    "\\mathscr{F}\\{\\ddot{f}(t)\\} = - \\omega^2\\bar{f}(\\omega) \\\\\n",
    "$$\n",
    "\n"
   ]
  },
  {
   "cell_type": "markdown",
   "metadata": {
    "slideshow": {
     "slide_type": "subslide"
    }
   },
   "source": [
    "Aplicando essas transformadas na equação de equilíbrio dinâmico, obtemos a expressão:\n",
    "\n",
    "$$\n",
    "\\mathscr{F}\\{\\ddot{u}(t) + 2\\zeta\\omega_n\\dot{u}(t) + \\omega_n^2u(t) \\} = \\frac{\\mathscr{F}\\{F(t)\\}}{m} \\\\\n",
    "- \\omega^2\\bar{u}(\\omega) -  2\\zeta\\omega_n\\omega\\bar{u}(\\omega)i +\\omega_n^2\\bar{u}(\\omega) = \\frac{\\bar{F}(\\omega)}{m} \\\\\n",
    "\\bar{u}(\\omega)\\left[-\\omega^2 -2\\zeta\\omega_n\\omega i + \\omega_n^2  \\right] = \\frac{\\bar{F}(\\omega)}{m}\n",
    "$$"
   ]
  },
  {
   "cell_type": "markdown",
   "metadata": {
    "slideshow": {
     "slide_type": "subslide"
    }
   },
   "source": [
    "Introduzindo agora a frequência adimensional $\\beta$ e isolando o deslocamento, obtemos o seguinte:\n",
    "\n",
    "$$\n",
    "\\beta = \\frac{\\omega}{\\omega_n} \\\\\n",
    "\\bar{u}(\\omega)\\left[-\\beta^2\\omega_n^2 -2\\zeta\\omega_n^2 \\beta i + \\omega_n^2  \\right] = \\frac{\\bar{F}(\\omega)}{m} \\\\\n",
    "\\bar{u}(\\omega)\\omega_n^2\\left[1-\\beta^2 -2\\zeta\\beta i  \\right] = \\frac{\\bar{F}(\\omega)}{m} \\\\\n",
    "$$"
   ]
  },
  {
   "cell_type": "markdown",
   "metadata": {
    "slideshow": {
     "slide_type": "subslide"
    }
   },
   "source": [
    "$$\n",
    "\\bar{u}(\\omega) = \\frac{1}{m\\omega_n^2\\left[1-\\beta^2 -2\\zeta\\beta i  \\right]}\\bar{F}(\\omega) \\\\\n",
    "H(\\omega) = \\frac{1}{k\\left[1-\\beta^2 -2\\zeta\\beta i  \\right]} \\\\\n",
    "\\bar{u}(\\omega) = H\\bar{F}(\\omega)\n",
    "$$"
   ]
  },
  {
   "cell_type": "markdown",
   "metadata": {
    "slideshow": {
     "slide_type": "subslide"
    }
   },
   "source": [
    "Observe que a função de admitância mecânica é complexa, sendo possível calcular  seu módulo ao quadradado a partir da expressão:\n",
    "\n",
    "$$\n",
    "\\lvert{H(\\omega)}\\rvert ^2 = \\frac{1}{k^2\\left[(1-\\beta^2)^2 +(2\\zeta\\beta)^2\\right]}\n",
    "$$\n",
    "\n",
    "Este valor será necessário para a realização da análise espectral"
   ]
  },
  {
   "cell_type": "markdown",
   "metadata": {
    "slideshow": {
     "slide_type": "slide"
    }
   },
   "source": [
    "## 2. Densidade espectral de potência\n",
    "\n",
    "A densidade espectral de potência descreve a distribuição da variância de um processo aleatório no domínio da frequência. Fisicamente, ela permite identificar a frequência que armazena maior energia em um processo aleatório.\n",
    "\n",
    "Uma propriedade importante da densidade espectral de potência é que a área delmitada por ela consiste na variância do processo aleatório:\n",
    "\n",
    "$$\n",
    "\\sigma^2 = \\int_{\\omega_1}^{\\omega_2} S(\\omega) d\\omega\n",
    "$$\n",
    "\n",
    "\n"
   ]
  },
  {
   "cell_type": "markdown",
   "metadata": {
    "slideshow": {
     "slide_type": "subslide"
    }
   },
   "source": [
    "Em que $\\sigma$ é o desvio padrão do processo aleatório e $S(\\omega)$ é a densidade espectral de potência.\n",
    "\n",
    "A partir disto, é possível estimar valores fundamentais para a realização de uma análise estrutural, como o valor rms (*root mean square*) e o valor de pico.\n",
    "\n",
    "O valor rms pode ser expresso pela seguinte relação:\n",
    "\n",
    "$$\n",
    "rms = \\sqrt{\\bar{u}^2 + \\sigma^2}\n",
    "$$\n",
    "\n",
    "Em que $\\bar{u}$ consiste no valor médio do processo. No caso de um processo com média zero, o valor rms é igual ao desvio padrão."
   ]
  },
  {
   "cell_type": "markdown",
   "metadata": {
    "slideshow": {
     "slide_type": "subslide"
    }
   },
   "source": [
    "\n",
    "\n",
    "Já para o valor de pico, é necessário utilizar um fator de pico $g$ , que normalmente possui valores próximos a 4. Este fator pode ser estimado por diversos métodos, como o **Davenpot** e o método **splitmax**. O cálculo do valor de pico pode ser feito pela seguinte equação:\n",
    "\n",
    "$$\n",
    "u_{pico} = \\bar{u} + g\\sigma\n",
    "$$"
   ]
  },
  {
   "cell_type": "markdown",
   "metadata": {
    "slideshow": {
     "slide_type": "slide"
    }
   },
   "source": [
    "## 3. Análise espectral\n",
    "\n",
    "A realização da análise espectral é de extrema utilizada quando o sistema está submetido um carregamento aleatório não-transiente, por exemplo, quando analisamos uma estrutura submetida ao carregamento do vento.\n",
    "\n",
    "No caso da solução da equação de equilíbrio dinâmico, tendo como *input* uma densidade espectral de potência da força, ´pode-se obter a densidade espectral do deslocamento (*output*) a partir da função de admitância mecânica, como mostra a expressão abaixo:\n",
    "\n",
    "$$\n",
    "S_u = \\lvert{H(\\omega)}\\rvert ^2 S_f \n",
    "$$\n"
   ]
  },
  {
   "cell_type": "markdown",
   "metadata": {
    "slideshow": {
     "slide_type": "subslide"
    }
   },
   "source": [
    "Caso o *input* seja um espectro de aceleração, é necessário realizar uma alteração na função de admitância mecânica.\n",
    "\n",
    "$$\n",
    "S_u = \\lvert{H(\\omega)}\\rvert ^2 S_a\n",
    "$$\n",
    "em que:\n",
    "\n",
    "$$\n",
    "\\lvert{H(\\omega)}\\rvert ^2 = \\frac{1}{\\omega_n^4\\left[(1-\\beta^2)^2 +(2\\zeta\\beta)^2\\right]}\n",
    "$$"
   ]
  },
  {
   "cell_type": "code",
   "execution_count": 26,
   "metadata": {
    "slideshow": {
     "slide_type": "skip"
    }
   },
   "outputs": [],
   "source": [
    "w   = np.linspace(0,10,200)\n",
    "wn  = 5\n",
    "m   = 200\n",
    "k   = wn**2 * m\n",
    "f   = 400\n",
    "z   = 0.1\n",
    "b   = w/wn\n",
    "Sa  = np.ones(len(w))*0.1\n",
    "Ha  = 1/(wn**4*((1-b**2)**2 + (2*z*b)**2))\n",
    "\n",
    "Su = Ha *Sa"
   ]
  },
  {
   "cell_type": "code",
   "execution_count": 27,
   "metadata": {
    "slideshow": {
     "slide_type": "subslide"
    }
   },
   "outputs": [
    {
     "data": {
      "image/png": "[encoded data removed]",
      "text/plain": [
       "<Figure size 576x288 with 1 Axes>"
      ]
     },
     "metadata": {
      "needs_background": "light"
     },
     "output_type": "display_data"
    }
   ],
   "source": [
    "plt.figure(1,figsize=(8,4))\n",
    "\n",
    "plt.semilogy(w,Sa)\n",
    "plt.xlabel('Frequência (Rad/s)') ; plt.ylabel('Densidade espectral de potência(m2/s3)')\n",
    "plt.grid(True)"
   ]
  },
  {
   "cell_type": "code",
   "execution_count": 28,
   "metadata": {
    "slideshow": {
     "slide_type": "subslide"
    }
   },
   "outputs": [
    {
     "data": {
      "image/png": "[encoded data removed]",
      "text/plain": [
       "<Figure size 576x288 with 1 Axes>"
      ]
     },
     "metadata": {
      "needs_background": "light"
     },
     "output_type": "display_data"
    }
   ],
   "source": [
    "plt.figure(2,figsize=(8,4))\n",
    "plt.semilogy(w,Ha)\n",
    "plt.xlabel('Frequência (Rad/s)') ; plt.ylabel('Função de admitância mecânica')\n",
    "plt.grid(True)"
   ]
  },
  {
   "cell_type": "code",
   "execution_count": 29,
   "metadata": {
    "slideshow": {
     "slide_type": "subslide"
    }
   },
   "outputs": [
    {
     "data": {
      "image/png": "[encoded data removed]",
      "text/plain": [
       "<Figure size 576x288 with 1 Axes>"
      ]
     },
     "metadata": {
      "needs_background": "light"
     },
     "output_type": "display_data"
    }
   ],
   "source": [
    "plt.figure(3,figsize=(8,4))\n",
    "plt.semilogy(w,Su)\n",
    "plt.xlabel('Frequência (Rad/s)') ; plt.ylabel('Densidade espectral de potência(m2/s3)')\n",
    "plt.grid(True)"
   ]
  },
  {
   "cell_type": "code",
   "execution_count": 30,
   "metadata": {
    "slideshow": {
     "slide_type": "subslide"
    }
   },
   "outputs": [
    {
     "name": "stdout",
     "output_type": "stream",
     "text": [
      "0.07897271895808532\n"
     ]
    }
   ],
   "source": [
    "sig2 = np.trapz(Su,w)\n",
    "sig  = np.sqrt(sig2)\n",
    "um   = f/k\n",
    "up   = um + 4*sig\n",
    "print(sig)"
   ]
  },
  {
   "cell_type": "markdown",
   "metadata": {},
   "source": [
    "Para saber a parcela ressonante da resposta, basta retirar o termo dependente da frequência da função de admitância mecânica.\n",
    "\n",
    "$$\n",
    "\\lvert{H(\\omega)}\\rvert ^2 = \\frac{1}{k^2}\n",
    "$$\n",
    "\n",
    "ou, caso o *input* seja um espectro de aceleração:\n",
    "\n",
    "$$\n",
    "\\lvert{H(\\omega)}\\rvert ^2 = \\frac{1}{\\omega_n^4}\n",
    "$$\n"
   ]
  },
  {
   "cell_type": "code",
   "execution_count": 33,
   "metadata": {},
   "outputs": [
    {
     "name": "stdout",
     "output_type": "stream",
     "text": [
      "0.04\n"
     ]
    },
    {
     "data": {
      "text/plain": [
       "[<matplotlib.lines.Line2D at 0x11f141c50>]"
      ]
     },
     "execution_count": 33,
     "metadata": {},
     "output_type": "execute_result"
    },
    {
     "data": {
      "image/png": "[encoded data removed]",
      "text/plain": [
       "<Figure size 432x288 with 1 Axes>"
      ]
     },
     "metadata": {
      "needs_background": "light"
     },
     "output_type": "display_data"
    }
   ],
   "source": [
    "Hr  = 1/wn**4\n",
    "Sur = Hr*Sa\n",
    "sig2r = np.trapz(Sur,w)\n",
    "sigr  = np.sqrt(sig2r)\n",
    "print(sigr)\n",
    "\n",
    "plt.semilogy(w,Su)"
   ]
  },
  {
   "cell_type": "code",
   "execution_count": null,
   "metadata": {},
   "outputs": [],
   "source": []
  },
  {
   "cell_type": "code",
   "execution_count": null,
   "metadata": {},
   "outputs": [],
   "source": []
  },
  {
   "cell_type": "code",
   "execution_count": null,
   "metadata": {},
   "outputs": [],
   "source": []
  }
 ],
 "metadata": {
  "celltoolbar": "Slideshow",
  "kernelspec": {
   "display_name": "Python 3",
   "language": "python",
   "name": "python3"
  },
  "language_info": {
   "codemirror_mode": {
    "name": "ipython",
    "version": 3
   },
   "file_extension": ".py",
   "mimetype": "text/x-python",
   "name": "python",
   "nbconvert_exporter": "python",
   "pygments_lexer": "ipython3",
   "version": "3.7.4"
  }
 },
 "nbformat": 4,
 "nbformat_minor": 2
}
