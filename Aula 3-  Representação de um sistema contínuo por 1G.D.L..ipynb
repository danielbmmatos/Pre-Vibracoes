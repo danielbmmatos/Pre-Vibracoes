{
 "cells": [
  {
   "cell_type": "markdown",
   "metadata": {},
   "source": [
    "Universidade Federal do Rio Grande do Sul (UFRGS)   \n",
    "Programa de Pós-Graduação em Engenharia Civil (PPGEC)   \n",
    "\n",
    "# Pré-Introdução à teoria das vibrações(PEC00025)\n",
    "\n",
    "## Aula 3 - Representação de um sistema contínuo por 1G.D.L\n",
    "\n",
    "### *Daniel Barbosa Mapurunga Matos (Aluno PPGEC/UFRGS)*\n",
    "\n"
   ]
  },
  {
   "cell_type": "code",
   "execution_count": 2,
   "metadata": {},
   "outputs": [],
   "source": [
    "import numpy as np\n",
    "import scipy as sp"
   ]
  },
  {
   "cell_type": "markdown",
   "metadata": {},
   "source": [
    "Para simplificar problemas de sistemas contínuos, é possível fazer uma simplificação, a partir de uma **representação** por apenas um grau de liberdade. Um sistema contínuo pode vibrar com infinitas frequências naturais, porém, ao fazer a simplificação, apenas a primeira frequência natural poderá ser visualizada, o que, em boa parte dos problemas de dinâmica, já é suficiente. Para ensinar o método, será utilizada uma viga em balanço, como a exposta abaixo.\n",
    "<img src=\"Figuras/viga-balanço.png\" width=\"300\">\n",
    "\n",
    "O intuito é calcular valores de **rigidez equivalente** e **massa equivalente** para poder representar a viga pelo sistema abaixo.\n",
    "<img src=\"Figuras/1gdl.png\" width=\"300\">\n",
    "\n"
   ]
  },
  {
   "cell_type": "markdown",
   "metadata": {},
   "source": [
    "## 1. Rigidez equivalente\n",
    "Pela equação da linha elástica da viga, é possível calcular a deformação na extremidade B pela seguinte equação:\n",
    "\\begin{align}\n",
    "x =\\frac{Fl^3}{3EI}\n",
    "\\end{align}\n",
    "Aplicando a equação da mola vista na aula 2, é possível escrever o seguinte:\n",
    "\n",
    "\\begin{align}\n",
    "F &= Kx\\\\\\\\\n",
    "F &= K\\frac{Fl^3}{3EI}\\\\\\\\\n",
    "K &=\\frac{3EI}{l^3}\n",
    "\\end{align}\n",
    "\n",
    "Com isto, é notável que, conhecendo a equação da linha elástica da viga, o cálculo da rigiedz equivalente é bastante simples."
   ]
  },
  {
   "cell_type": "markdown",
   "metadata": {},
   "source": [
    "## 2. Massa equivalente\n",
    "\n",
    "O processo para o cálculo da massa equivalente é mais complexo que o de rigidez. Para conseguir representar a massa distribuída da viga como uma massa pontual, é necessário que o modelo de 1 G.D.L possua a mesma energia cinética do ponto de aplicação da força. Para um sistema contínuo, a energia cinética pode ser calculada por:\n",
    "\n",
    "\\begin{align}\n",
    "C &= \\int_{0}^{l} \\frac{\\mu\\dot{x}(t)^2}{2}dz\n",
    "\\end{align}\n",
    "\n",
    "Onde $\\mu$ é a massa por unidade de comprimento da viga e $\\dot{}$ é o sinal de primeira derivada em função do tempo.\n",
    "\n",
    "Já em uma massa pontual(Sistema equivalente), esta energia é calculada por:\n",
    "\\begin{align}\n",
    "C &= \\frac{m_{eq}\\dot{x}_{max}^2}{2}\n",
    "\\end{align}\n",
    "\n",
    "Agora,Escreve-se a função da linha elástica em função do deslocamento no ponto B:\n",
    "\n",
    "\\begin{align}\n",
    "C = \\frac{x_{max}}{2l^2}(3lz^2-z^3)\n",
    "\\end{align}\n",
    "\n",
    "O cálculo da função da velocidade ao longo do comprimento da viga pode ser calculada a partir da derivada da\n",
    "equação da linha elástica:\n",
    "\n",
    "\\begin{align}\n",
    "\\dot{x}(t)= \\frac{\\dot{x}_{max}}{2l^2}(3lz^2-z^3)\n",
    "\\end{align}\n",
    "\n",
    "Aplicando esta equação na fórmula da energia cinética, obtém-se:\n",
    "\n",
    "\\begin{align}\n",
    "C = \\int_{0}^{l} \\frac{\\mu(\\frac{\\dot{x}_{max}}{2l^2}(3lz^2-z^3))^2}{2}dz\n",
    "\\end{align}\n",
    "\n",
    "Solucionando a integral, chega-se ao seguinte valor:\n",
    "\n",
    "\\begin{align}\n",
    "C =\\frac{33\\mu l\\dot{x}}{280}\n",
    "\\end{align}\n",
    "\n",
    "Igualando esta energia a energia a energia do sistema equivalente:\n",
    "\n",
    "\\begin{align}\n",
    "C =\\frac{33\\mu l\\dot{x}}{280} = \\frac{m_{eq}\\dot{x}_{max}^2}{2}\n",
    "\\end{align}\n",
    "\n",
    "Por fim, o valor da massa equivalente $m_{eq}$ pode ser escrito por:\n",
    "\n",
    "\n",
    "\\begin{align}\n",
    "m_{eq} =0.2357\\mu l \n",
    "\\end{align}\n",
    "\n"
   ]
  },
  {
   "cell_type": "markdown",
   "metadata": {},
   "source": [
    "##  3. Exemplo\n",
    "Dando valores para calcular a rigidez e a massa equivalente da viga em balanço.\n",
    "* E = 28000 MPa\n",
    "* b = 0.2 m\n",
    "* h = 0.6 m\n",
    "* L = 6.0 m\n",
    "* $\\rho$ = 2500 kg/m^3\n"
   ]
  },
  {
   "cell_type": "code",
   "execution_count": 7,
   "metadata": {},
   "outputs": [
    {
     "name": "stdout",
     "output_type": "stream",
     "text": [
      "A rigidez equivalente é 0.4148148148148149N/m e a massa equivalente é 282.84000000000003kg\n"
     ]
    }
   ],
   "source": [
    "EI = 28000*0.2*0.4**3/12\n",
    "mu = 0.2*0.4*2500\n",
    "K = 3*EI/6**3\n",
    "M = 0.2357*mu*6\n",
    "print(\"A rigidez equivalente é {}N/m e a massa equivalente é {}kg\".format(K,M))"
   ]
  },
  {
   "cell_type": "markdown",
   "metadata": {},
   "source": [
    "## 4. Tabelas de equivalência\n",
    "\n",
    "Afim de agilizar o processo de cálculo dos valores equivalentes, criaram-se tabelas com base nas condições de contorno de vigas e pilares.\n",
    "<img src=\"Figuras/rigidez.png\" width=\"900\">\n",
    "<img src=\"Figuras/massa.png\" width=\"700\">\n",
    "\n"
   ]
  },
  {
   "cell_type": "code",
   "execution_count": null,
   "metadata": {},
   "outputs": [],
   "source": []
  }
 ],
 "metadata": {
  "kernelspec": {
   "display_name": "Python 3",
   "language": "python",
   "name": "python3"
  },
  "language_info": {
   "codemirror_mode": {
    "name": "ipython",
    "version": 3
   },
   "file_extension": ".py",
   "mimetype": "text/x-python",
   "name": "python",
   "nbconvert_exporter": "python",
   "pygments_lexer": "ipython3",
   "version": "3.7.1"
  }
 },
 "nbformat": 4,
 "nbformat_minor": 2
}
