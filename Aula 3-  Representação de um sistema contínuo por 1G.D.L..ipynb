{
 "cells": [
  {
   "cell_type": "markdown",
   "metadata": {},
   "source": [
    "Universidade Federal do Rio Grande do Sul (UFRGS)   \n",
    "Programa de Pós-Graduação em Engenharia Civil (PPGEC)   \n",
    "\n",
    "# Pré-Introdução à teoria das vibrações\n",
    "\n",
    "## Aula 3 - Representação de um sistema contínuo por 1G.D.L\n",
    "\n",
    "### *Daniel Barbosa Mapurunga Matos (Aluno PPGEC/UFRGS)*\n",
    "\n"
   ]
  },
  {
   "cell_type": "code",
   "execution_count": 1,
   "metadata": {},
   "outputs": [],
   "source": [
    "import numpy as np\n",
    "import scipy as sc"
   ]
  },
  {
   "cell_type": "markdown",
   "metadata": {},
   "source": [
    "Para simplificar problemas de sistemas contínuos, é possível fazer uma simplificação, a partir de uma **representação** por apenas um grau de liberdade. Um sistema contínuo pode vibrar com infinitas frequências naturais, porém, ao fazer a simplificação, apenas a primeira frequência natural poderá ser visualizada, o que, em boa parte dos problemas de dinâmica, já é suficiente. Para ensinar o método, será utilizada uma viga em balanço, como a exposta abaixo.\n",
    "<img src=\"Figuras/viga-balanço.PNG\" width=\"300\">\n",
    "\n",
    "O intuito é calcular valores de **rigidez equivalente** e **massa equivalente** para poder representar a viga pelo sistema abaixo.\n",
    "<img src=\"Figuras/1gdl.PNG\" width=\"300\">\n",
    "\n"
   ]
  },
  {
   "cell_type": "markdown",
   "metadata": {},
   "source": [
    "## 1. Rigidez equivalente\n",
    "Pela equação da linha elástica da viga, é possível calcular a deformação na extremidade B pela seguinte equação:\n",
    "\n",
    "\\begin{align}\n",
    "x       &= \\frac{Fl}{6EI}(3lz^2-z^3)\\\\\n",
    "x_{max} &=\\frac{Fl^3}{3EI}\n",
    "\\end{align}\n",
    "Aplicando a equação da mola vista na aula 2, é possível escrever o seguinte:\n",
    "\n",
    "\\begin{align}\n",
    "F &= Kx\\\\\n",
    "F &= K\\frac{Fl^3}{3EI}\\\\\n",
    "K_{eq} &=\\frac{3EI}{l^3}\n",
    "\\end{align}\n",
    "\n",
    "Com isto, é notável que, conhecendo a equação da linha elástica da viga, o cálculo da rigiedz equivalente é bastante simples."
   ]
  },
  {
   "cell_type": "markdown",
   "metadata": {},
   "source": [
    "## 2. Massa equivalente\n",
    "\n",
    "O processo para o cálculo da massa equivalente é mais complexo que o de rigidez. Para conseguir representar a massa distribuída da viga como uma massa pontual, é necessário que o modelo de 1 G.D.L possua a mesma energia cinética do ponto de aplicação da força. Para um sistema contínuo, a energia cinética pode ser calculada por:\n",
    "\n",
    "\\begin{align}\n",
    "C &= \\int_{0}^{l} \\frac{\\mu\\dot{x}(t)^2}{2}dz\n",
    "\\end{align}\n",
    "\n",
    "Onde $\\mu$ é a massa por unidade de comprimento da viga e $\\dot{}$ é o sinal de primeira derivada em função do tempo.\n",
    "\n",
    "Já em uma massa pontual(Sistema equivalente), esta energia é calculada por:\n",
    "\\begin{align}\n",
    "C &= \\frac{m_{eq}\\dot{x}_{max}^2}{2}\n",
    "\\end{align}\n",
    "\n",
    "Agora,Escreve-se a função da linha elástica em função do deslocamento no ponto B:\n",
    "\n",
    "\\begin{align}\n",
    "x(t) = \\frac{x_{max}}{2l^2}(3lz^2-z^3)\n",
    "\\end{align}\n",
    "\n",
    "O cálculo da função da velocidade ao longo do comprimento da viga pode ser calculada a partir da derivada da\n",
    "equação da linha elástica:\n",
    "\n",
    "\\begin{align}\n",
    "\\dot{x}(t)= \\frac{\\dot{x}_{max}}{2l^2}(3lz^2-z^3)\n",
    "\\end{align}\n",
    "\n",
    "Aplicando esta equação na fórmula da energia cinética, obtém-se:\n",
    "\n",
    "\\begin{align}\n",
    "C = \\int_{0}^{l} \\frac{\\mu(\\frac{\\dot{x}_{max}}{2l^2}(3lz^2-z^3))^2}{2}dz\n",
    "\\end{align}\n",
    "\n",
    "Solucionando a integral([Exemplo](#section_3)), chega-se ao seguinte valor:\n",
    "\n",
    "\\begin{align}\n",
    "C =\\frac{33\\mu l\\dot{x}}{280}\n",
    "\\end{align}\n",
    "\n",
    "Igualando esta energia a energia a energia do sistema equivalente:\n",
    "\n",
    "\\begin{align}\n",
    "C =\\frac{33\\mu l\\dot{x}}{280} = \\frac{m_{eq}\\dot{x}_{max}^2}{2}\n",
    "\\end{align}\n",
    "\n",
    "Por fim, o valor da massa equivalente $m_{eq}$ pode ser escrito por:\n",
    "\n",
    "\n",
    "\\begin{align}\n",
    "m_{eq} =0.2357\\mu l \n",
    "\\end{align}\n",
    "\n"
   ]
  },
  {
   "cell_type": "markdown",
   "metadata": {},
   "source": [
    "##  3. Exemplo <a name=\"section_3\"></a>\n",
    "Utilizar a biblioteca ``Sympy`` para resolução de uma integral definida"
   ]
  },
  {
   "cell_type": "code",
   "execution_count": 25,
   "metadata": {},
   "outputs": [
    {
     "data": {
      "image/png": "[encoded data removed]",
      "text/latex": [
       "$$\\frac{9 \\dot{x}_{max}^{2} \\mu z^{5}}{40 l^{4}} - \\frac{\\dot{x}_{max}^{2} \\mu z^{6}}{8 l^{5}} + \\frac{\\dot{x}_{max}^{2} \\mu z^{7}}{56 l^{6}}$$"
      ],
      "text/plain": [
       "               2    5                2    6                2    7\n",
       "9⋅\\dot{x}_{max} ⋅μ⋅z    \\dot{x}_{max} ⋅μ⋅z    \\dot{x}_{max} ⋅μ⋅z \n",
       "───────────────────── - ─────────────────── + ───────────────────\n",
       "            4                      5                     6       \n",
       "        40⋅l                    8⋅l                  56⋅l        "
      ]
     },
     "execution_count": 25,
     "metadata": {},
     "output_type": "execute_result"
    }
   ],
   "source": [
    "import sympy as sp                           # Importando biblioteca para resolução de integrais, derivadas e transformadas.\n",
    "# Definindo as variáveis da expressão\n",
    "z = sp.Symbol('z')  \n",
    "l = sp.Symbol('l')\n",
    "xmax = sp.Symbol('\\dot{x}_{max}')            # O valor entre () deve estar em Latex\n",
    "mu = sp.Symbol('mu')\n",
    "sp.init_printing(use_unicode=True)           # Linha para printar em Latex\n",
    "sp.integrate(mu*((xmax/(2*l**3))*(3*l*z**2-z**3))**2/2,z)\n",
    "\n"
   ]
  },
  {
   "cell_type": "markdown",
   "metadata": {},
   "source": [
    "Substituindo agora os limites de integração:"
   ]
  },
  {
   "cell_type": "code",
   "execution_count": 26,
   "metadata": {},
   "outputs": [
    {
     "data": {
      "image/png": "[encoded data removed]",
      "text/latex": [
       "$$\\frac{33 \\dot{x}_{max}^{2} l \\mu}{280}$$"
      ],
      "text/plain": [
       "                2    \n",
       "33⋅\\dot{x}_{max} ⋅l⋅μ\n",
       "─────────────────────\n",
       "         280         "
      ]
     },
     "execution_count": 26,
     "metadata": {},
     "output_type": "execute_result"
    }
   ],
   "source": [
    "sp.integrate(mu*((xmax/(2*l**3))*(3*l*z**2-z**3))**2/2,(z,0,l))"
   ]
  },
  {
   "cell_type": "markdown",
   "metadata": {},
   "source": [
    "## 4. Tabelas de equivalência\n",
    "\n",
    "Afim de agilizar o processo de cálculo dos valores equivalentes, criaram-se tabelas com base nas condições de contorno de vigas e pilares.\n",
    "<img src=\"Figuras/rigidez.PNG\" width=\"900\">\n",
    "<img src=\"Figuras/massa.PNG\" width=\"700\">\n",
    "\n"
   ]
  },
  {
   "cell_type": "code",
   "execution_count": null,
   "metadata": {},
   "outputs": [],
   "source": []
  }
 ],
 "metadata": {
  "kernelspec": {
   "display_name": "Python 3",
   "language": "python",
   "name": "python3"
  },
  "language_info": {
   "codemirror_mode": {
    "name": "ipython",
    "version": 3
   },
   "file_extension": ".py",
   "mimetype": "text/x-python",
   "name": "python",
   "nbconvert_exporter": "python",
   "pygments_lexer": "ipython3",
   "version": "3.7.4"
  }
 },
 "nbformat": 4,
 "nbformat_minor": 2
}
